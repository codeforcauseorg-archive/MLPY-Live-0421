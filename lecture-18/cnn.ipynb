{
  "nbformat": 4,
  "nbformat_minor": 0,
  "metadata": {
    "colab": {
      "name": "Untitled32.ipynb",
      "provenance": []
    },
    "kernelspec": {
      "name": "python3",
      "display_name": "Python 3"
    },
    "language_info": {
      "name": "python"
    },
    "accelerator": "GPU"
  },
  "cells": [
    {
      "cell_type": "code",
      "metadata": {
        "colab": {
          "base_uri": "https://localhost:8080/"
        },
        "id": "8G6L5h272p1r",
        "outputId": "eead56f5-f861-441c-cacb-74758dedd88b"
      },
      "source": [
        "import tensorflow as tf\n",
        "\n",
        "from tensorflow.keras.datasets import mnist\n",
        "from tensorflow.keras.utils import to_categorical\n",
        "\n",
        "(X_train, y_train),(X_test, y_test) = mnist.load_data()"
      ],
      "execution_count": 1,
      "outputs": [
        {
          "output_type": "stream",
          "text": [
            "Downloading data from https://storage.googleapis.com/tensorflow/tf-keras-datasets/mnist.npz\n",
            "11493376/11490434 [==============================] - 0s 0us/step\n"
          ],
          "name": "stdout"
        }
      ]
    },
    {
      "cell_type": "code",
      "metadata": {
        "colab": {
          "base_uri": "https://localhost:8080/",
          "height": 35
        },
        "id": "PVGz9-BL2u4i",
        "outputId": "89d45c44-8eb0-41b1-d11c-fe81019bae4a"
      },
      "source": [
        "tf.__version__"
      ],
      "execution_count": 2,
      "outputs": [
        {
          "output_type": "execute_result",
          "data": {
            "application/vnd.google.colaboratory.intrinsic+json": {
              "type": "string"
            },
            "text/plain": [
              "'2.5.0'"
            ]
          },
          "metadata": {
            "tags": []
          },
          "execution_count": 2
        }
      ]
    },
    {
      "cell_type": "code",
      "metadata": {
        "id": "5jc3u2T72ypW"
      },
      "source": [
        "y_train_hot = to_categorical(y_train, num_classes=10)\n",
        "y_test_hot = to_categorical(y_test, num_classes=10)"
      ],
      "execution_count": 3,
      "outputs": []
    },
    {
      "cell_type": "code",
      "metadata": {
        "id": "RsMcJOpI3EBS"
      },
      "source": [
        "from tensorflow.keras.models import Model\n",
        "from tensorflow.keras.layers import Input, Reshape, Dense, Conv2D, MaxPooling2D, Flatten\n",
        "from tensorflow.keras.losses import categorical_crossentropy"
      ],
      "execution_count": 8,
      "outputs": []
    },
    {
      "cell_type": "code",
      "metadata": {
        "id": "-sEVerFE3InP"
      },
      "source": [
        "in_layer = Input(shape = (28, 28))\n",
        "reshape = Reshape((28, 28, 1))(in_layer)\n",
        "c1 = Conv2D(32, (3,3))(reshape)\n",
        "p1 = MaxPooling2D((2, 2))(c1)\n",
        "c2 = Conv2D(64, (3,3))(p1)\n",
        "p2 = MaxPooling2D((2, 2))(c2)\n",
        "flat = Flatten()(p2)\n",
        "d1 = Dense(1000, activation=\"tanh\")(flat)\n",
        "d2 = Dense(200, activation=\"tanh\")(d1)\n",
        "d3 = Dense(50, activation=\"tanh\")(d2)\n",
        "out = Dense(10, activation=\"softmax\")(d3)"
      ],
      "execution_count": 22,
      "outputs": []
    },
    {
      "cell_type": "code",
      "metadata": {
        "id": "0bTL33VZ38ML"
      },
      "source": [
        "model = Model(in_layer, out)"
      ],
      "execution_count": 23,
      "outputs": []
    },
    {
      "cell_type": "code",
      "metadata": {
        "colab": {
          "base_uri": "https://localhost:8080/"
        },
        "id": "dkm_RQXX38na",
        "outputId": "8b30de1c-ede5-4e91-d97f-7dbabc43b3df"
      },
      "source": [
        "model.summary()"
      ],
      "execution_count": 24,
      "outputs": [
        {
          "output_type": "stream",
          "text": [
            "Model: \"model_2\"\n",
            "_________________________________________________________________\n",
            "Layer (type)                 Output Shape              Param #   \n",
            "=================================================================\n",
            "input_7 (InputLayer)         [(None, 28, 28)]          0         \n",
            "_________________________________________________________________\n",
            "reshape_4 (Reshape)          (None, 28, 28, 1)         0         \n",
            "_________________________________________________________________\n",
            "conv2d_8 (Conv2D)            (None, 26, 26, 32)        320       \n",
            "_________________________________________________________________\n",
            "max_pooling2d_6 (MaxPooling2 (None, 13, 13, 32)        0         \n",
            "_________________________________________________________________\n",
            "conv2d_9 (Conv2D)            (None, 11, 11, 64)        18496     \n",
            "_________________________________________________________________\n",
            "max_pooling2d_7 (MaxPooling2 (None, 5, 5, 64)          0         \n",
            "_________________________________________________________________\n",
            "flatten_3 (Flatten)          (None, 1600)              0         \n",
            "_________________________________________________________________\n",
            "dense_6 (Dense)              (None, 1000)              1601000   \n",
            "_________________________________________________________________\n",
            "dense_7 (Dense)              (None, 200)               200200    \n",
            "_________________________________________________________________\n",
            "dense_8 (Dense)              (None, 50)                10050     \n",
            "_________________________________________________________________\n",
            "dense_9 (Dense)              (None, 10)                510       \n",
            "=================================================================\n",
            "Total params: 1,830,576\n",
            "Trainable params: 1,830,576\n",
            "Non-trainable params: 0\n",
            "_________________________________________________________________\n"
          ],
          "name": "stdout"
        }
      ]
    },
    {
      "cell_type": "code",
      "metadata": {
        "id": "tRCwiXUM5Dao"
      },
      "source": [
        "model.compile(optimizer=\"adam\", loss=\"categorical_crossentropy\", metrics=[\"accuracy\"])"
      ],
      "execution_count": 25,
      "outputs": []
    },
    {
      "cell_type": "code",
      "metadata": {
        "colab": {
          "base_uri": "https://localhost:8080/"
        },
        "id": "jtWRybJK5PHJ",
        "outputId": "6fa067cf-0140-4ff8-e075-58d56feec76a"
      },
      "source": [
        "model.fit(X_train, y_train_hot, epochs=10, steps_per_epoch=10)"
      ],
      "execution_count": 26,
      "outputs": [
        {
          "output_type": "stream",
          "text": [
            "Epoch 1/10\n",
            "10/10 [==============================] - 1s 49ms/step - loss: 1.6434 - accuracy: 0.5324\n",
            "Epoch 2/10\n",
            "10/10 [==============================] - 0s 49ms/step - loss: 0.5780 - accuracy: 0.8814\n",
            "Epoch 3/10\n",
            "10/10 [==============================] - 0s 48ms/step - loss: 0.3026 - accuracy: 0.9306\n",
            "Epoch 4/10\n",
            "10/10 [==============================] - 0s 48ms/step - loss: 0.2023 - accuracy: 0.9521\n",
            "Epoch 5/10\n",
            "10/10 [==============================] - 0s 49ms/step - loss: 0.1500 - accuracy: 0.9653\n",
            "Epoch 6/10\n",
            "10/10 [==============================] - 0s 50ms/step - loss: 0.1175 - accuracy: 0.9738\n",
            "Epoch 7/10\n",
            "10/10 [==============================] - 0s 49ms/step - loss: 0.0962 - accuracy: 0.9790\n",
            "Epoch 8/10\n",
            "10/10 [==============================] - 0s 50ms/step - loss: 0.0800 - accuracy: 0.9835\n",
            "Epoch 9/10\n",
            "10/10 [==============================] - 0s 50ms/step - loss: 0.0678 - accuracy: 0.9869\n",
            "Epoch 10/10\n",
            "10/10 [==============================] - 0s 49ms/step - loss: 0.0584 - accuracy: 0.9891\n"
          ],
          "name": "stdout"
        },
        {
          "output_type": "execute_result",
          "data": {
            "text/plain": [
              "<tensorflow.python.keras.callbacks.History at 0x7f0e300f1150>"
            ]
          },
          "metadata": {
            "tags": []
          },
          "execution_count": 26
        }
      ]
    },
    {
      "cell_type": "code",
      "metadata": {
        "colab": {
          "base_uri": "https://localhost:8080/"
        },
        "id": "7oppICle5QtP",
        "outputId": "d1d28516-c57f-4312-ebd4-fc3259d208e3"
      },
      "source": [
        "model.evaluate(X_test, y_test_hot)"
      ],
      "execution_count": 27,
      "outputs": [
        {
          "output_type": "stream",
          "text": [
            "313/313 [==============================] - 1s 2ms/step - loss: 0.0718 - accuracy: 0.9823\n"
          ],
          "name": "stdout"
        },
        {
          "output_type": "execute_result",
          "data": {
            "text/plain": [
              "[0.07177340239286423, 0.9822999835014343]"
            ]
          },
          "metadata": {
            "tags": []
          },
          "execution_count": 27
        }
      ]
    },
    {
      "cell_type": "code",
      "metadata": {
        "id": "6CW9xjaw5zu6"
      },
      "source": [
        "from tensorflow.keras.preprocessing.image import load_img"
      ],
      "execution_count": 28,
      "outputs": []
    },
    {
      "cell_type": "code",
      "metadata": {
        "id": "BzE75KOk64kR"
      },
      "source": [
        "import numpy as np"
      ],
      "execution_count": 29,
      "outputs": []
    },
    {
      "cell_type": "code",
      "metadata": {
        "colab": {
          "base_uri": "https://localhost:8080/"
        },
        "id": "tUoRmUeC67G5",
        "outputId": "80407a43-de87-4699-e851-6318b8208dce"
      },
      "source": [
        "arr = np.array(load_img(\"./twosmall.png\", target_size=(28, 28), grayscale=True))"
      ],
      "execution_count": 57,
      "outputs": [
        {
          "output_type": "stream",
          "text": [
            "/usr/local/lib/python3.7/dist-packages/keras_preprocessing/image/utils.py:107: UserWarning: grayscale is deprecated. Please use color_mode = \"grayscale\"\n",
            "  warnings.warn('grayscale is deprecated. Please use '\n"
          ],
          "name": "stderr"
        }
      ]
    },
    {
      "cell_type": "code",
      "metadata": {
        "id": "U90RsBuT7H3v"
      },
      "source": [
        "import matplotlib.pyplot as plt"
      ],
      "execution_count": 58,
      "outputs": []
    },
    {
      "cell_type": "code",
      "metadata": {
        "colab": {
          "base_uri": "https://localhost:8080/",
          "height": 282
        },
        "id": "VW4u9gCO7L0z",
        "outputId": "8dd674ec-53d1-43ad-a7d9-a25721d79758"
      },
      "source": [
        "plt.imshow(255-arr, cmap=\"gray\")"
      ],
      "execution_count": 59,
      "outputs": [
        {
          "output_type": "execute_result",
          "data": {
            "text/plain": [
              "<matplotlib.image.AxesImage at 0x7f0b80825750>"
            ]
          },
          "metadata": {
            "tags": []
          },
          "execution_count": 59
        },
        {
          "output_type": "display_data",
          "data": {
            "image/png": "[encoded data removed]",
            "text/plain": [
              "<Figure size 432x288 with 1 Axes>"
            ]
          },
          "metadata": {
            "tags": [],
            "needs_background": "light"
          }
        }
      ]
    },
    {
      "cell_type": "code",
      "metadata": {
        "id": "2bQjAoyx7Rvq"
      },
      "source": [
        "test = 255-arr"
      ],
      "execution_count": 60,
      "outputs": []
    },
    {
      "cell_type": "code",
      "metadata": {
        "id": "tveqiF__7XbJ"
      },
      "source": [
        "res = model.predict(np.array([test]))"
      ],
      "execution_count": 61,
      "outputs": []
    },
    {
      "cell_type": "code",
      "metadata": {
        "colab": {
          "base_uri": "https://localhost:8080/"
        },
        "id": "jJV-K91W7nxu",
        "outputId": "c5880174-f692-4568-c620-7abf997847cd"
      },
      "source": [
        "res.argmax(axis=1)"
      ],
      "execution_count": 62,
      "outputs": [
        {
          "output_type": "execute_result",
          "data": {
            "text/plain": [
              "array([4])"
            ]
          },
          "metadata": {
            "tags": []
          },
          "execution_count": 62
        }
      ]
    },
    {
      "cell_type": "code",
      "metadata": {
        "id": "NapedZcB7qYt"
      },
      "source": [
        ""
      ],
      "execution_count": null,
      "outputs": []
    }
  ]
}
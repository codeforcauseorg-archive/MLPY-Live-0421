{
 "cells": [
  {
   "cell_type": "code",
   "execution_count": 1,
   "metadata": {},
   "outputs": [],
   "source": [
    "from sklearn.datasets import make_regression\n",
    "import numpy as np\n",
    "import matplotlib.pyplot as plt\n",
    "from sklearn.model_selection import train_test_split"
   ]
  },
  {
   "cell_type": "code",
   "execution_count": 12,
   "metadata": {},
   "outputs": [],
   "source": [
    "X = np.linspace(-2, 2, 100)"
   ]
  },
  {
   "cell_type": "code",
   "execution_count": 13,
   "metadata": {},
   "outputs": [],
   "source": [
    "a, b, c = 4, 5, 6"
   ]
  },
  {
   "cell_type": "code",
   "execution_count": 20,
   "metadata": {},
   "outputs": [],
   "source": [
    "y = ((a * X * X) + (b * X) + c) + np.random.uniform(-2, 2, X.shape)"
   ]
  },
  {
   "cell_type": "code",
   "execution_count": 22,
   "metadata": {},
   "outputs": [
    {
     "data": {
      "text/plain": [
       "<matplotlib.collections.PathCollection at 0x7f958d2f6a90>"
      ]
     },
     "execution_count": 22,
     "metadata": {},
     "output_type": "execute_result"
    },
    {
     "data": {
      "image/png": "[encoded data removed]",
      "text/plain": [
       "<Figure size 432x288 with 1 Axes>"
      ]
     },
     "metadata": {
      "needs_background": "light"
     },
     "output_type": "display_data"
    }
   ],
   "source": [
    "plt.scatter(X, y)"
   ]
  },
  {
   "cell_type": "code",
   "execution_count": 33,
   "metadata": {},
   "outputs": [],
   "source": [
    "class CustomLinearReg:\n",
    "    \n",
    "    def __init__(self, max_iters=100, lr=.1):\n",
    "        self.max_iters = max_iters\n",
    "        self.lr = lr\n",
    "\n",
    "        \n",
    "    def fit(self, X, y):\n",
    "        self.__X = X\n",
    "        self.__ya = y\n",
    "        \n",
    "        self.a_ = 0\n",
    "        self.b_ = 0\n",
    "        self.c_ = 0\n",
    "        \n",
    "        errors = []\n",
    "        \n",
    "        for step in range(self.max_iters):\n",
    "            \n",
    "            ya = y\n",
    "            yp = (self.a_ * X * X) + (self.b_ * X) + self.c_\n",
    "            del_a = ((yp - ya) * (X * X)).mean() * self.lr\n",
    "            del_b = ((yp - ya) * (X)).mean() * self.lr\n",
    "            del_c = (yp - ya).mean() * self.lr\n",
    "            \n",
    "            self.a_-= del_a\n",
    "            self.b_ -= del_b\n",
    "            self.c_ -= del_c\n",
    "            \n",
    "            errors.append(self.calculate_error())\n",
    "        \n",
    "        return errors\n",
    "    \n",
    "    def calculate_error(self):\n",
    "        yp = (self.a_ * self.__X * self.__X) + (self.b_ * self.__X) + self.c_\n",
    "        return ((yp - self.__ya) ** 2).mean()\n",
    "    \n",
    "    def predict(self, X):\n",
    "        yp = (self.a_ * X * X) + (self.b_ * X) + self.c_\n",
    "        return yp.flatten()"
   ]
  },
  {
   "cell_type": "code",
   "execution_count": 34,
   "metadata": {},
   "outputs": [],
   "source": [
    "model = CustomLinearReg()"
   ]
  },
  {
   "cell_type": "code",
   "execution_count": 35,
   "metadata": {},
   "outputs": [
    {
     "data": {
      "text/plain": [
       "[86.09070128484886,\n",
       " 44.16542079689742,\n",
       " 26.244475886979245,\n",
       " 17.722321019920518,\n",
       " 13.106152331255984,\n",
       " 10.27173001133295,\n",
       " 8.355022458375286,\n",
       " 6.974526729974718,\n",
       " 5.941575643143808,\n",
       " 5.150323716244373,\n",
       " 4.534430005287037,\n",
       " 4.048897567029888,\n",
       " 3.661694354944514,\n",
       " 3.3493891111856415,\n",
       " 3.094583827100048,\n",
       " 2.8842487892511226,\n",
       " 2.7085712302691367,\n",
       " 2.560128899035384,\n",
       " 2.433284842062871,\n",
       " 2.3237395463184893,\n",
       " 2.228197735256921,\n",
       " 2.1441197456666448,\n",
       " 2.0695356961548717,\n",
       " 2.0029064216018835,\n",
       " 1.9430192969592495,\n",
       " 1.8889101149967937,\n",
       " 1.8398044324404796,\n",
       " 1.7950734710185017,\n",
       " 1.7542009054690766,\n",
       " 1.7167577994320866,\n",
       " 1.6823836432618224,\n",
       " 1.6507719651570585,\n",
       " 1.6216593732465983,\n",
       " 1.5948171746607855,\n",
       " 1.5700449329762447,\n",
       " 1.547165486257592,\n",
       " 1.5260210680550366,\n",
       " 1.5064702634651295,\n",
       " 1.4883855994228135,\n",
       " 1.471651618513853,\n",
       " 1.456163323068199,\n",
       " 1.4418249043197973,\n",
       " 1.428548692388013,\n",
       " 1.4162542785353616,\n",
       " 1.4048677729184227,\n",
       " 1.39432116986884,\n",
       " 1.3845517993621264,\n",
       " 1.375501848308631,\n",
       " 1.367117939047664,\n",
       " 1.359350755252097,\n",
       " 1.3521547075877944,\n",
       " 1.345487633092906,\n",
       " 1.339310523475213,\n",
       " 1.33358727846813,\n",
       " 1.3282844811095353,\n",
       " 1.3233711923664755,\n",
       " 1.3188187629632981,\n",
       " 1.3146006606111453,\n",
       " 1.310692311105753,\n",
       " 1.3070709519750527,\n",
       " 1.303715497531045,\n",
       " 1.300606414321355,\n",
       " 1.2977256060920612,\n",
       " 1.2950563074703039,\n",
       " 1.2925829856569038,\n",
       " 1.2902912494889975,\n",
       " 1.2881677652928543,\n",
       " 1.2862001789994235,\n",
       " 1.2843770440412405,\n",
       " 1.2826877545901356,\n",
       " 1.2811224837316215,\n",
       " 1.2796721262045372,\n",
       " 1.2783282453641167,\n",
       " 1.2770830240533966,\n",
       " 1.275929219092311,\n",
       " 1.274860119116103,\n",
       " 1.273869505515074,\n",
       " 1.2729516162464434,\n",
       " 1.2721011123063104,\n",
       " 1.2713130466655636,\n",
       " 1.2705828354881985,\n",
       " 1.2699062314640155,\n",
       " 1.2692792991000996,\n",
       " 1.2686983918270314,\n",
       " 1.2681601307863768,\n",
       " 1.2676613851759075,\n",
       " 1.267199254038062,\n",
       " 1.2667710493856181,\n",
       " 1.2663742805663458,\n",
       " 1.2660066397756373,\n",
       " 1.2656659886327974,\n",
       " 1.2653503457428905,\n",
       " 1.265057875171767,\n",
       " 1.2647868757672116,\n",
       " 1.2645357712640974,\n",
       " 1.2643031011159687,\n",
       " 1.2640875119997268,\n",
       " 1.263887749943995,\n",
       " 1.2637026530353743,\n",
       " 1.263531144660162]"
      ]
     },
     "execution_count": 35,
     "metadata": {},
     "output_type": "execute_result"
    }
   ],
   "source": [
    "model.fit(X, y)"
   ]
  },
  {
   "cell_type": "code",
   "execution_count": 36,
   "metadata": {},
   "outputs": [],
   "source": [
    "yp = model.predict(X)"
   ]
  },
  {
   "cell_type": "code",
   "execution_count": 38,
   "metadata": {},
   "outputs": [
    {
     "data": {
      "text/plain": [
       "<matplotlib.collections.PathCollection at 0x7f958c6f2d30>"
      ]
     },
     "execution_count": 38,
     "metadata": {},
     "output_type": "execute_result"
    },
    {
     "data": {
      "image/png": "[encoded data removed]",
      "text/plain": [
       "<Figure size 432x288 with 1 Axes>"
      ]
     },
     "metadata": {
      "needs_background": "light"
     },
     "output_type": "display_data"
    }
   ],
   "source": [
    "plt.scatter(X, y)\n",
    "plt.scatter(X, yp)"
   ]
  },
  {
   "cell_type": "code",
   "execution_count": null,
   "metadata": {},
   "outputs": [],
   "source": []
  }
 ],
 "metadata": {
  "kernelspec": {
   "display_name": "Python 3",
   "language": "python",
   "name": "python3"
  },
  "language_info": {
   "codemirror_mode": {
    "name": "ipython",
    "version": 3
   },
   "file_extension": ".py",
   "mimetype": "text/x-python",
   "name": "python",
   "nbconvert_exporter": "python",
   "pygments_lexer": "ipython3",
   "version": "3.8.5"
  }
 },
 "nbformat": 4,
 "nbformat_minor": 4
}

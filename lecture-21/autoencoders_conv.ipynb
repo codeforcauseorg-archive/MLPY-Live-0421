{
  "nbformat": 4,
  "nbformat_minor": 0,
  "metadata": {
    "kernelspec": {
      "display_name": "Python 3",
      "language": "python",
      "name": "python3"
    },
    "language_info": {
      "codemirror_mode": {
        "name": "ipython",
        "version": 3
      },
      "file_extension": ".py",
      "mimetype": "text/x-python",
      "name": "python",
      "nbconvert_exporter": "python",
      "pygments_lexer": "ipython3",
      "version": "3.8.5"
    },
    "colab": {
      "name": "autoencoders.ipynb",
      "provenance": []
    },
    "accelerator": "GPU"
  },
  "cells": [
    {
      "cell_type": "code",
      "metadata": {
        "id": "WwnSQHNV4TFP"
      },
      "source": [
        "from tensorflow.keras.layers import Dense, InputLayer, Reshape, Conv2D, Flatten, Conv2DTranspose\n",
        "from tensorflow.keras.models import Sequential\n",
        "from tensorflow.keras import layers, losses"
      ],
      "execution_count": 1,
      "outputs": []
    },
    {
      "cell_type": "code",
      "metadata": {
        "id": "LX2w9O6R4TFR"
      },
      "source": [
        "from tensorflow.keras.datasets import fashion_mnist"
      ],
      "execution_count": 2,
      "outputs": []
    },
    {
      "cell_type": "code",
      "metadata": {
        "colab": {
          "base_uri": "https://localhost:8080/"
        },
        "id": "HF1QQ8sL4TFT",
        "outputId": "f4732e54-245a-4de1-d0c7-32a2e4d1158a"
      },
      "source": [
        "(X_train, y_train), (X_test, y_test) = fashion_mnist.load_data()"
      ],
      "execution_count": 3,
      "outputs": [
        {
          "output_type": "stream",
          "text": [
            "Downloading data from https://storage.googleapis.com/tensorflow/tf-keras-datasets/train-labels-idx1-ubyte.gz\n",
            "32768/29515 [=================================] - 0s 0us/step\n",
            "Downloading data from https://storage.googleapis.com/tensorflow/tf-keras-datasets/train-images-idx3-ubyte.gz\n",
            "26427392/26421880 [==============================] - 2s 0us/step\n",
            "Downloading data from https://storage.googleapis.com/tensorflow/tf-keras-datasets/t10k-labels-idx1-ubyte.gz\n",
            "8192/5148 [===============================================] - 0s 0us/step\n",
            "Downloading data from https://storage.googleapis.com/tensorflow/tf-keras-datasets/t10k-images-idx3-ubyte.gz\n",
            "4423680/4422102 [==============================] - 0s 0us/step\n"
          ],
          "name": "stdout"
        }
      ]
    },
    {
      "cell_type": "code",
      "metadata": {
        "colab": {
          "base_uri": "https://localhost:8080/"
        },
        "id": "F8J_rIHe4TFV",
        "outputId": "5b98254d-137c-4949-bd31-d2e9d1d4d2f8"
      },
      "source": [
        "X_train.shape"
      ],
      "execution_count": 4,
      "outputs": [
        {
          "output_type": "execute_result",
          "data": {
            "text/plain": [
              "(60000, 28, 28)"
            ]
          },
          "metadata": {
            "tags": []
          },
          "execution_count": 4
        }
      ]
    },
    {
      "cell_type": "code",
      "metadata": {
        "id": "rG8nmDQv4TFX"
      },
      "source": [
        "X_train_mod = X_train.astype(float) / 255"
      ],
      "execution_count": 5,
      "outputs": []
    },
    {
      "cell_type": "code",
      "metadata": {
        "colab": {
          "base_uri": "https://localhost:8080/"
        },
        "id": "C9sBP20Z4TFY",
        "outputId": "0826b72b-3f06-41b2-822d-4162c511c428"
      },
      "source": [
        "X_train_mod.max()"
      ],
      "execution_count": 6,
      "outputs": [
        {
          "output_type": "execute_result",
          "data": {
            "text/plain": [
              "1.0"
            ]
          },
          "metadata": {
            "tags": []
          },
          "execution_count": 6
        }
      ]
    },
    {
      "cell_type": "code",
      "metadata": {
        "id": "54d0Pz2O4TFa"
      },
      "source": [
        "encoder = Sequential()\n",
        "encoder.add(InputLayer(input_shape=(28, 28)))\n",
        "encoder.add(Reshape([28, 28, 1]))\n",
        "encoder.add(Conv2D(16, 3, activation='relu', strides=2))\n",
        "encoder.add(Conv2D(8, 3, activation='relu', strides=2))\n",
        "encoder.add(Flatten())"
      ],
      "execution_count": 39,
      "outputs": []
    },
    {
      "cell_type": "code",
      "metadata": {
        "colab": {
          "base_uri": "https://localhost:8080/"
        },
        "id": "pkMsKo3k4TFc",
        "outputId": "e2c37ef6-07ff-47dd-f42a-29ae232284f6"
      },
      "source": [
        "encoder.summary()"
      ],
      "execution_count": 40,
      "outputs": [
        {
          "output_type": "stream",
          "text": [
            "Model: \"sequential_9\"\n",
            "_________________________________________________________________\n",
            "Layer (type)                 Output Shape              Param #   \n",
            "=================================================================\n",
            "reshape_9 (Reshape)          (None, 28, 28, 1)         0         \n",
            "_________________________________________________________________\n",
            "conv2d_13 (Conv2D)           (None, 13, 13, 16)        160       \n",
            "_________________________________________________________________\n",
            "conv2d_14 (Conv2D)           (None, 6, 6, 8)           1160      \n",
            "_________________________________________________________________\n",
            "flatten_4 (Flatten)          (None, 288)               0         \n",
            "=================================================================\n",
            "Total params: 1,320\n",
            "Trainable params: 1,320\n",
            "Non-trainable params: 0\n",
            "_________________________________________________________________\n"
          ],
          "name": "stdout"
        }
      ]
    },
    {
      "cell_type": "code",
      "metadata": {
        "id": "XRSWLIQa4TFd"
      },
      "source": [
        "decoder = Sequential()\n",
        "decoder.add(InputLayer(input_shape=(288,)))\n",
        "decoder.add(Reshape([6, 6, 8]))\n",
        "decoder.add(Conv2DTranspose(16, kernel_size=3, strides=2, activation='relu', padding='same'))\n",
        "decoder.add(Conv2DTranspose(16, kernel_size=3, strides=2, activation='relu', padding='same'))\n",
        "decoder.add(Conv2DTranspose(4, kernel_size=3, strides=1, activation='relu'))\n",
        "decoder.add(Conv2DTranspose(1, kernel_size=3, strides=1, activation='relu'))\n",
        "decoder.add(Reshape([28, 28]))\n"
      ],
      "execution_count": 47,
      "outputs": []
    },
    {
      "cell_type": "code",
      "metadata": {
        "colab": {
          "base_uri": "https://localhost:8080/"
        },
        "id": "GF0V46Of6Trz",
        "outputId": "38b68e47-214b-41cb-dee9-a72460947371"
      },
      "source": [
        "decoder.summary()"
      ],
      "execution_count": 48,
      "outputs": [
        {
          "output_type": "stream",
          "text": [
            "Model: \"sequential_13\"\n",
            "_________________________________________________________________\n",
            "Layer (type)                 Output Shape              Param #   \n",
            "=================================================================\n",
            "reshape_13 (Reshape)         (None, 6, 6, 8)           0         \n",
            "_________________________________________________________________\n",
            "conv2d_transpose_22 (Conv2DT (None, 12, 12, 16)        1168      \n",
            "_________________________________________________________________\n",
            "conv2d_transpose_23 (Conv2DT (None, 24, 24, 16)        2320      \n",
            "_________________________________________________________________\n",
            "conv2d_transpose_24 (Conv2DT (None, 26, 26, 4)         580       \n",
            "_________________________________________________________________\n",
            "conv2d_transpose_25 (Conv2DT (None, 28, 28, 1)         37        \n",
            "_________________________________________________________________\n",
            "reshape_14 (Reshape)         (None, 28, 28)            0         \n",
            "=================================================================\n",
            "Total params: 4,105\n",
            "Trainable params: 4,105\n",
            "Non-trainable params: 0\n",
            "_________________________________________________________________\n"
          ],
          "name": "stdout"
        }
      ]
    },
    {
      "cell_type": "code",
      "metadata": {
        "id": "hj3Cy8hl4TFf"
      },
      "source": [
        "autoencoder = Sequential()\n",
        "autoencoder.add(InputLayer(input_shape=(28, 28)))\n",
        "autoencoder.add(encoder)\n",
        "autoencoder.add(decoder)"
      ],
      "execution_count": 49,
      "outputs": []
    },
    {
      "cell_type": "code",
      "metadata": {
        "colab": {
          "base_uri": "https://localhost:8080/"
        },
        "id": "dNMlQYrT4TFg",
        "outputId": "2f57e614-b037-4a35-9982-d14c77a0c0a7"
      },
      "source": [
        "autoencoder.summary()"
      ],
      "execution_count": 50,
      "outputs": [
        {
          "output_type": "stream",
          "text": [
            "Model: \"sequential_14\"\n",
            "_________________________________________________________________\n",
            "Layer (type)                 Output Shape              Param #   \n",
            "=================================================================\n",
            "sequential_9 (Sequential)    (None, 288)               1320      \n",
            "_________________________________________________________________\n",
            "sequential_13 (Sequential)   (None, 28, 28)            4105      \n",
            "=================================================================\n",
            "Total params: 5,425\n",
            "Trainable params: 5,425\n",
            "Non-trainable params: 0\n",
            "_________________________________________________________________\n"
          ],
          "name": "stdout"
        }
      ]
    },
    {
      "cell_type": "code",
      "metadata": {
        "id": "IIYDm3Pn4TFh"
      },
      "source": [
        "autoencoder.compile(optimizer=\"adam\", loss=losses.MeanSquaredError())"
      ],
      "execution_count": 51,
      "outputs": []
    },
    {
      "cell_type": "code",
      "metadata": {
        "colab": {
          "base_uri": "https://localhost:8080/"
        },
        "id": "qOwz4TxA4TFh",
        "outputId": "6870684a-74b9-4168-b457-cd0cacd194ef"
      },
      "source": [
        "autoencoder.fit(X_train_mod, X_train_mod, epochs=10, steps_per_epoch=10)"
      ],
      "execution_count": 53,
      "outputs": [
        {
          "output_type": "stream",
          "text": [
            "Epoch 1/10\n",
            "10/10 [==============================] - 2s 202ms/step - loss: 0.0302\n",
            "Epoch 2/10\n",
            "10/10 [==============================] - 2s 200ms/step - loss: 0.0282\n",
            "Epoch 3/10\n",
            "10/10 [==============================] - 2s 199ms/step - loss: 0.0263\n",
            "Epoch 4/10\n",
            "10/10 [==============================] - 2s 200ms/step - loss: 0.0243\n",
            "Epoch 5/10\n",
            "10/10 [==============================] - 2s 198ms/step - loss: 0.0223\n",
            "Epoch 6/10\n",
            "10/10 [==============================] - 2s 196ms/step - loss: 0.0206\n",
            "Epoch 7/10\n",
            "10/10 [==============================] - 2s 199ms/step - loss: 0.0191\n",
            "Epoch 8/10\n",
            "10/10 [==============================] - 2s 200ms/step - loss: 0.0180\n",
            "Epoch 9/10\n",
            "10/10 [==============================] - 2s 200ms/step - loss: 0.0171\n",
            "Epoch 10/10\n",
            "10/10 [==============================] - 2s 198ms/step - loss: 0.0165\n"
          ],
          "name": "stdout"
        },
        {
          "output_type": "execute_result",
          "data": {
            "text/plain": [
              "<tensorflow.python.keras.callbacks.History at 0x7f4669302f90>"
            ]
          },
          "metadata": {
            "tags": []
          },
          "execution_count": 53
        }
      ]
    },
    {
      "cell_type": "code",
      "metadata": {
        "id": "iTcW-9Sj4TFj"
      },
      "source": [
        "output = autoencoder.predict(X_train_mod[:10])"
      ],
      "execution_count": 54,
      "outputs": []
    },
    {
      "cell_type": "code",
      "metadata": {
        "id": "JzKIvjyp4TFk"
      },
      "source": [
        "import matplotlib.pyplot as plt"
      ],
      "execution_count": 55,
      "outputs": []
    },
    {
      "cell_type": "code",
      "metadata": {
        "colab": {
          "base_uri": "https://localhost:8080/",
          "height": 282
        },
        "id": "RbVFmYFx4TFl",
        "outputId": "dd33c3b8-5d8c-4864-b554-7064df3494d3"
      },
      "source": [
        "plt.imshow(output[1], cmap=\"gray\")"
      ],
      "execution_count": 58,
      "outputs": [
        {
          "output_type": "execute_result",
          "data": {
            "text/plain": [
              "<matplotlib.image.AxesImage at 0x7f4667a24790>"
            ]
          },
          "metadata": {
            "tags": []
          },
          "execution_count": 58
        },
        {
          "output_type": "display_data",
          "data": {
            "image/png": "[encoded data removed]",
            "text/plain": [
              "<Figure size 432x288 with 1 Axes>"
            ]
          },
          "metadata": {
            "tags": [],
            "needs_background": "light"
          }
        }
      ]
    },
    {
      "cell_type": "code",
      "metadata": {
        "colab": {
          "base_uri": "https://localhost:8080/",
          "height": 282
        },
        "id": "SmPCgLeX4TFm",
        "outputId": "7327a943-d4ce-462e-cbde-2c61554e5b34"
      },
      "source": [
        "plt.imshow(X_train_mod[1], cmap=\"gray\")"
      ],
      "execution_count": 60,
      "outputs": [
        {
          "output_type": "execute_result",
          "data": {
            "text/plain": [
              "<matplotlib.image.AxesImage at 0x7f46678fa350>"
            ]
          },
          "metadata": {
            "tags": []
          },
          "execution_count": 60
        },
        {
          "output_type": "display_data",
          "data": {
            "image/png": "[encoded data removed]",
            "text/plain": [
              "<Figure size 432x288 with 1 Axes>"
            ]
          },
          "metadata": {
            "tags": [],
            "needs_background": "light"
          }
        }
      ]
    },
    {
      "cell_type": "code",
      "metadata": {
        "id": "Uz2NykYc4TFn"
      },
      "source": [
        "encode = encoder.predict(X_train_mod)"
      ],
      "execution_count": null,
      "outputs": []
    },
    {
      "cell_type": "code",
      "metadata": {
        "id": "NZyqGy2V4TFo"
      },
      "source": [
        "decode = decoder.predict(encode)"
      ],
      "execution_count": null,
      "outputs": []
    },
    {
      "cell_type": "code",
      "metadata": {
        "id": "YSr7cpKS4TFp"
      },
      "source": [
        ""
      ],
      "execution_count": null,
      "outputs": []
    }
  ]
}
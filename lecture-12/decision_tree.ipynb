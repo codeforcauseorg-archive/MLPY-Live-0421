{
 "cells": [
  {
   "cell_type": "code",
   "execution_count": 1,
   "metadata": {},
   "outputs": [],
   "source": [
    "import matplotlib.pyplot as plt\n",
    "from sklearn.datasets import make_blobs\n",
    "import numpy as np"
   ]
  },
  {
   "cell_type": "code",
   "execution_count": 2,
   "metadata": {},
   "outputs": [],
   "source": [
    "X, y = make_blobs(n_samples=1000, n_features=10, centers=9)"
   ]
  },
  {
   "cell_type": "code",
   "execution_count": 3,
   "metadata": {},
   "outputs": [],
   "source": [
    "# plt.figure(figsize=(6, 6))\n",
    "# plt.scatter(X[:, 0], X[:, 1], c=y)"
   ]
  },
  {
   "cell_type": "code",
   "execution_count": 10,
   "metadata": {},
   "outputs": [],
   "source": [
    "class Node:\n",
    "    \n",
    "    def __init__(self, result=None, feature=None, thresh=None):\n",
    "        self.result = result\n",
    "        self.feature = feature\n",
    "        self.thresh = thresh\n",
    "\n",
    "class DT:\n",
    "    \n",
    "    def __init__(self, max_depth=6):\n",
    "        self.root = None\n",
    "        self.max_depth = max_depth\n",
    "    \n",
    "    def fit(self, X, y):\n",
    "        self.root = self.generate(X, y, self.max_depth)\n",
    "        self.classes = np.unique(y)\n",
    "        \n",
    "    \n",
    "    @classmethod\n",
    "    def entropy(cls, data):\n",
    "        classes = np.unique(data)\n",
    "        \n",
    "        ent = 0\n",
    "        for klass in classes:\n",
    "\n",
    "            p = (np.array(data) == klass).mean()\n",
    "            ent += (-p * np.log(p))\n",
    "\n",
    "        return ent\n",
    "    \n",
    "        \n",
    "        \n",
    "    @classmethod\n",
    "    def infogains(cls, X, y):\n",
    "        gains = []\n",
    "\n",
    "        for index in range(X.shape[1]):\n",
    "\n",
    "            thresh = X[:, index].mean()\n",
    "\n",
    "            lefty = y[X[:, index] < thresh]\n",
    "            righty = y[X[:, index] >= thresh]\n",
    "\n",
    "            pleft = len(lefty)/len(y)\n",
    "            pright = len(righty)/len(y)  \n",
    "\n",
    "            ig = DT.entropy(y) - pleft * DT.entropy(lefty) - pright * DT.entropy(righty)\n",
    "            gains.append(ig)\n",
    "\n",
    "        return gains\n",
    "        \n",
    "        \n",
    "        \n",
    "    def generate(self, X, y, max_depth):\n",
    "        \n",
    "        if max_depth == 0:\n",
    "            node = Node(result=y.mean())\n",
    "            return node\n",
    "        \n",
    "        \n",
    "        \n",
    "        gains = DT.infogains(X, y)\n",
    "        \n",
    "        maxIndex = np.argmax(gains)\n",
    "        \n",
    "        maxValue = gains[maxIndex]\n",
    "        \n",
    "        if maxValue <= 0:\n",
    "            node = Node(result=y.mean())\n",
    "            return node\n",
    "        \n",
    "        thresh = X[:, maxIndex].mean()\n",
    "        leftX = X[X[:, maxIndex] < thresh]\n",
    "        rightX = X[X[:, maxIndex] >= thresh]\n",
    "\n",
    "        lefty = y[X[:, maxIndex] < thresh]\n",
    "        righty = y[X[:, maxIndex] >= thresh]\n",
    "        \n",
    "        node = Node(feature=maxIndex, thresh=thresh)\n",
    "        node.left = self.generate(leftX, lefty, max_depth-1)\n",
    "        node.right = self.generate(rightX, righty, max_depth-1)\n",
    "        \n",
    "        return node\n",
    "    \n",
    "    def predictPoint(self, x):\n",
    "        result = self.predictPointRec(x, self.root)\n",
    "        classIndex = np.argmin(np.abs(self.classes - result))\n",
    "        return self.classes[classIndex]\n",
    "    \n",
    "    def predict(self, X):\n",
    "        results = []\n",
    "        for point in X:\n",
    "            results.append(self.predictPoint(point))\n",
    "            \n",
    "        return np.array(results)\n",
    "    \n",
    "    def predictPointRec(self, x, node):\n",
    "        if node.result != None:\n",
    "            return node.result\n",
    "        \n",
    "        if x[node.feature] < node.thresh:\n",
    "            return self.predictPointRec(x, node.left)\n",
    "        else:\n",
    "            return self.predictPointRec(x, node.right)\n",
    "        \n",
    "    def score(self, X, y):\n",
    "        yp = self.predict(X)\n",
    "        return (yp==y).mean()\n",
    "        \n",
    "    "
   ]
  },
  {
   "cell_type": "code",
   "execution_count": 11,
   "metadata": {},
   "outputs": [],
   "source": [
    "from sklearn.model_selection import train_test_split"
   ]
  },
  {
   "cell_type": "code",
   "execution_count": 12,
   "metadata": {},
   "outputs": [],
   "source": [
    "X_train, X_test, y_train, y_test = train_test_split(\n",
    "...     X, y, test_size=0.33, random_state=42)"
   ]
  },
  {
   "cell_type": "code",
   "execution_count": 13,
   "metadata": {},
   "outputs": [],
   "source": [
    "model = DT(max_depth=11)"
   ]
  },
  {
   "cell_type": "code",
   "execution_count": 14,
   "metadata": {},
   "outputs": [],
   "source": [
    "model.fit(X_train, y_train)"
   ]
  },
  {
   "cell_type": "code",
   "execution_count": 15,
   "metadata": {},
   "outputs": [
    {
     "data": {
      "text/plain": [
       "array([2, 6, 1, 8, 4, 7, 5, 0, 0, 6])"
      ]
     },
     "execution_count": 15,
     "metadata": {},
     "output_type": "execute_result"
    }
   ],
   "source": [
    "model.predict(X_test[:10])"
   ]
  },
  {
   "cell_type": "code",
   "execution_count": 16,
   "metadata": {},
   "outputs": [
    {
     "data": {
      "text/plain": [
       "array([2, 6, 1, 8, 4, 7, 5, 0, 0, 6])"
      ]
     },
     "execution_count": 16,
     "metadata": {},
     "output_type": "execute_result"
    }
   ],
   "source": [
    "y_test[:10]"
   ]
  },
  {
   "cell_type": "code",
   "execution_count": 17,
   "metadata": {},
   "outputs": [
    {
     "data": {
      "text/plain": [
       "0.9939393939393939"
      ]
     },
     "execution_count": 17,
     "metadata": {},
     "output_type": "execute_result"
    }
   ],
   "source": [
    "model.score(X_test, y_test)"
   ]
  },
  {
   "cell_type": "code",
   "execution_count": null,
   "metadata": {},
   "outputs": [],
   "source": []
  },
  {
   "cell_type": "code",
   "execution_count": 18,
   "metadata": {},
   "outputs": [],
   "source": [
    "yt = y[:20]"
   ]
  },
  {
   "cell_type": "code",
   "execution_count": 19,
   "metadata": {},
   "outputs": [],
   "source": [
    "clases = np.unique(yt)"
   ]
  },
  {
   "cell_type": "code",
   "execution_count": 20,
   "metadata": {},
   "outputs": [
    {
     "data": {
      "text/plain": [
       "array([0, 1, 2, 3, 4, 5, 6, 7, 8])"
      ]
     },
     "execution_count": 20,
     "metadata": {},
     "output_type": "execute_result"
    }
   ],
   "source": [
    "clases"
   ]
  },
  {
   "cell_type": "code",
   "execution_count": 21,
   "metadata": {},
   "outputs": [
    {
     "data": {
      "text/plain": [
       "array([-0.6,  0.4,  1.4,  2.4,  3.4,  4.4,  5.4,  6.4,  7.4])"
      ]
     },
     "execution_count": 21,
     "metadata": {},
     "output_type": "execute_result"
    }
   ],
   "source": [
    "clases - .6"
   ]
  },
  {
   "cell_type": "code",
   "execution_count": 22,
   "metadata": {},
   "outputs": [
    {
     "data": {
      "text/plain": [
       "array([0.6, 0.4, 1.4, 2.4, 3.4, 4.4, 5.4, 6.4, 7.4])"
      ]
     },
     "execution_count": 22,
     "metadata": {},
     "output_type": "execute_result"
    }
   ],
   "source": [
    "np.abs(clases - .6)"
   ]
  },
  {
   "cell_type": "code",
   "execution_count": 23,
   "metadata": {},
   "outputs": [
    {
     "data": {
      "text/plain": [
       "1"
      ]
     },
     "execution_count": 23,
     "metadata": {},
     "output_type": "execute_result"
    }
   ],
   "source": [
    "np.argmin(np.abs(clases - .6))"
   ]
  },
  {
   "cell_type": "code",
   "execution_count": 24,
   "metadata": {},
   "outputs": [],
   "source": [
    "import pandas as pd"
   ]
  },
  {
   "cell_type": "code",
   "execution_count": 25,
   "metadata": {},
   "outputs": [],
   "source": [
    "df = pd.read_csv(\"../datasets/mnist_train_small.csv\", header=None)"
   ]
  },
  {
   "cell_type": "code",
   "execution_count": 26,
   "metadata": {},
   "outputs": [],
   "source": [
    "data = df.values"
   ]
  },
  {
   "cell_type": "code",
   "execution_count": 27,
   "metadata": {},
   "outputs": [],
   "source": [
    "X, y = data[:, 1:], data[:, 0]"
   ]
  },
  {
   "cell_type": "code",
   "execution_count": 28,
   "metadata": {},
   "outputs": [],
   "source": [
    "X_train, X_test, y_train, y_test = train_test_split(\n",
    "...     X, y, test_size=0.33, random_state=42)"
   ]
  },
  {
   "cell_type": "code",
   "execution_count": 29,
   "metadata": {},
   "outputs": [],
   "source": [
    "model = DT(max_depth=10)"
   ]
  },
  {
   "cell_type": "code",
   "execution_count": 30,
   "metadata": {},
   "outputs": [],
   "source": [
    "model.fit(X_train[:300], y_train[:300])"
   ]
  },
  {
   "cell_type": "code",
   "execution_count": 31,
   "metadata": {},
   "outputs": [
    {
     "data": {
      "text/plain": [
       "array([9, 3, 9, 1, 6, 0, 4, 8, 9, 7, 5, 6, 2, 5, 0, 3, 9, 9, 6, 8])"
      ]
     },
     "execution_count": 31,
     "metadata": {},
     "output_type": "execute_result"
    }
   ],
   "source": [
    "model.predict(X_test[:20])"
   ]
  },
  {
   "cell_type": "code",
   "execution_count": 32,
   "metadata": {},
   "outputs": [
    {
     "data": {
      "text/plain": [
       "array([9, 5, 2, 6, 6, 0, 0, 0, 9, 8, 9, 6, 2, 5, 0, 3, 9, 2, 6, 2])"
      ]
     },
     "execution_count": 32,
     "metadata": {},
     "output_type": "execute_result"
    }
   ],
   "source": [
    "y_test[:20]"
   ]
  },
  {
   "cell_type": "code",
   "execution_count": null,
   "metadata": {},
   "outputs": [],
   "source": []
  }
 ],
 "metadata": {
  "kernelspec": {
   "display_name": "Python 3",
   "language": "python",
   "name": "python3"
  },
  "language_info": {
   "codemirror_mode": {
    "name": "ipython",
    "version": 3
   },
   "file_extension": ".py",
   "mimetype": "text/x-python",
   "name": "python",
   "nbconvert_exporter": "python",
   "pygments_lexer": "ipython3",
   "version": "3.8.5"
  }
 },
 "nbformat": 4,
 "nbformat_minor": 4
}

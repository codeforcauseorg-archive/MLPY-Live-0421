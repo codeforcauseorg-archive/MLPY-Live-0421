{
 "cells": [
  {
   "cell_type": "code",
   "execution_count": 3,
   "metadata": {},
   "outputs": [],
   "source": [
    "import numpy as np"
   ]
  },
  {
   "cell_type": "code",
   "execution_count": 4,
   "metadata": {},
   "outputs": [],
   "source": [
    "total = 50"
   ]
  },
  {
   "cell_type": "code",
   "execution_count": 7,
   "metadata": {},
   "outputs": [],
   "source": [
    "entropies = []\n",
    "\n",
    "for count in range(total+1):\n",
    "    red = [\"red\"]*count\n",
    "    blue = [\"blue\"]*(total-count)\n",
    "    balls = red + blue\n",
    "    \n",
    "    classes = np.unique(balls)\n",
    "    \n",
    "    entropy = 0\n",
    "    \n",
    "    for klass in classes:\n",
    "        \n",
    "        p = (np.array(balls) == klass).mean()\n",
    "        entropy += (-p * np.log(p))\n",
    "    \n",
    "    entropies.append(entropy)\n",
    "    \n",
    "    \n",
    "    "
   ]
  },
  {
   "cell_type": "code",
   "execution_count": 8,
   "metadata": {},
   "outputs": [
    {
     "data": {
      "text/plain": [
       "[0.0,\n",
       " 0.098039113279732,\n",
       " 0.167944147734173,\n",
       " 0.22696752250060448,\n",
       " 0.2787693717685874,\n",
       " 0.3250829733914482,\n",
       " 0.3669249912727096,\n",
       " 0.40496348506393853,\n",
       " 0.439669879401343,\n",
       " 0.4713934868100942,\n",
       " 0.5004024235381879,\n",
       " 0.5269079614313803,\n",
       " 0.5510799280869728,\n",
       " 0.5730569171314204,\n",
       " 0.5929533174474745,\n",
       " 0.6108643020548935,\n",
       " 0.6268694575724263,\n",
       " 0.6410354778811556,\n",
       " 0.6534181947937018,\n",
       " 0.6640641265641081,\n",
       " 0.6730116670092565,\n",
       " 0.6802920001921535,\n",
       " 0.6859298002523728,\n",
       " 0.6899437584583995,\n",
       " 0.6923469670899615,\n",
       " 0.6931471805599453,\n",
       " 0.6923469670899615,\n",
       " 0.6899437584583995,\n",
       " 0.6859298002523728,\n",
       " 0.6802920001921535,\n",
       " 0.6730116670092565,\n",
       " 0.6640641265641081,\n",
       " 0.6534181947937018,\n",
       " 0.6410354778811556,\n",
       " 0.6268694575724263,\n",
       " 0.6108643020548935,\n",
       " 0.5929533174474745,\n",
       " 0.5730569171314204,\n",
       " 0.5510799280869728,\n",
       " 0.5269079614313803,\n",
       " 0.5004024235381879,\n",
       " 0.4713934868100942,\n",
       " 0.439669879401343,\n",
       " 0.40496348506393853,\n",
       " 0.3669249912727096,\n",
       " 0.3250829733914482,\n",
       " 0.2787693717685874,\n",
       " 0.22696752250060448,\n",
       " 0.167944147734173,\n",
       " 0.098039113279732,\n",
       " 0.0]"
      ]
     },
     "execution_count": 8,
     "metadata": {},
     "output_type": "execute_result"
    }
   ],
   "source": [
    "entropies"
   ]
  },
  {
   "cell_type": "code",
   "execution_count": 9,
   "metadata": {},
   "outputs": [],
   "source": [
    "import matplotlib.pyplot as plt"
   ]
  },
  {
   "cell_type": "code",
   "execution_count": 10,
   "metadata": {},
   "outputs": [
    {
     "data": {
      "text/plain": [
       "[<matplotlib.lines.Line2D at 0x7fbe6d1414c0>]"
      ]
     },
     "execution_count": 10,
     "metadata": {},
     "output_type": "execute_result"
    },
    {
     "data": {
      "image/png": "[encoded data removed]",
      "text/plain": [
       "<Figure size 432x288 with 1 Axes>"
      ]
     },
     "metadata": {
      "needs_background": "light"
     },
     "output_type": "display_data"
    }
   ],
   "source": [
    "plt.plot(range(51), entropies)"
   ]
  },
  {
   "cell_type": "code",
   "execution_count": null,
   "metadata": {},
   "outputs": [],
   "source": []
  }
 ],
 "metadata": {
  "kernelspec": {
   "display_name": "Python 3",
   "language": "python",
   "name": "python3"
  },
  "language_info": {
   "codemirror_mode": {
    "name": "ipython",
    "version": 3
   },
   "file_extension": ".py",
   "mimetype": "text/x-python",
   "name": "python",
   "nbconvert_exporter": "python",
   "pygments_lexer": "ipython3",
   "version": "3.8.5"
  }
 },
 "nbformat": 4,
 "nbformat_minor": 4
}

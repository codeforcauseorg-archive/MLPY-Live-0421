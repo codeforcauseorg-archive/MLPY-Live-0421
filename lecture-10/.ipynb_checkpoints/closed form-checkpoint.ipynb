{
 "cells": [
  {
   "cell_type": "code",
   "execution_count": 68,
   "metadata": {},
   "outputs": [],
   "source": [
    "from sklearn.datasets import make_regression\n",
    "import numpy as np\n",
    "import matplotlib.pyplot as plt\n",
    "from sklearn.model_selection import train_test_split\n",
    "\n",
    "bias = 100\n",
    "X, y, coef = make_regression(n_samples=500,  n_features=4, bias=bias, coef=True, noise=3, random_state=42)"
   ]
  },
  {
   "cell_type": "code",
   "execution_count": 69,
   "metadata": {},
   "outputs": [
    {
     "data": {
      "text/plain": [
       "(500, 4)"
      ]
     },
     "execution_count": 69,
     "metadata": {},
     "output_type": "execute_result"
    }
   ],
   "source": [
    "X.shape"
   ]
  },
  {
   "cell_type": "code",
   "execution_count": 70,
   "metadata": {},
   "outputs": [],
   "source": [
    "ya = y.reshape(-1, 1)"
   ]
  },
  {
   "cell_type": "code",
   "execution_count": 71,
   "metadata": {},
   "outputs": [],
   "source": [
    "m = np.random.randn(X.shape[1], 1)\n",
    "c = 0"
   ]
  },
  {
   "cell_type": "code",
   "execution_count": 72,
   "metadata": {},
   "outputs": [],
   "source": [
    "yp = np.dot(X, m) + c"
   ]
  },
  {
   "cell_type": "code",
   "execution_count": 73,
   "metadata": {},
   "outputs": [
    {
     "data": {
      "text/plain": [
       "(500, 1)"
      ]
     },
     "execution_count": 73,
     "metadata": {},
     "output_type": "execute_result"
    }
   ],
   "source": [
    "yp.shape"
   ]
  },
  {
   "cell_type": "code",
   "execution_count": 74,
   "metadata": {},
   "outputs": [
    {
     "data": {
      "text/plain": [
       "array([[ 16.48511939,  25.11713722,  10.9191735 ,  24.13548494],\n",
       "       [ 32.90884208,   6.89739423,  10.28513991,  22.48634039],\n",
       "       [ 91.16446407,   1.44168448, -16.9354783 ,   3.92977421],\n",
       "       ...,\n",
       "       [ 25.18962251,  -6.60240073,  21.12447642,  44.78408897],\n",
       "       [-34.04974871,  37.33912436,  42.09096014,  36.3400632 ],\n",
       "       [-45.27551219, 159.01825754, -21.16136062, -72.71104316]])"
      ]
     },
     "execution_count": 74,
     "metadata": {},
     "output_type": "execute_result"
    }
   ],
   "source": [
    "(yp - ya) * X"
   ]
  },
  {
   "cell_type": "code",
   "execution_count": 75,
   "metadata": {},
   "outputs": [
    {
     "data": {
      "text/plain": [
       "array([[-17.85585546],\n",
       "       [-24.47754068]])"
      ]
     },
     "execution_count": 75,
     "metadata": {},
     "output_type": "execute_result"
    }
   ],
   "source": [
    "(yp - ya)[:2]"
   ]
  },
  {
   "cell_type": "code",
   "execution_count": 76,
   "metadata": {},
   "outputs": [
    {
     "data": {
      "text/plain": [
       "array([[-0.92323325, -1.4066611 , -0.6115178 , -1.35168461],\n",
       "       [-1.34445051, -0.28178461, -0.42018682, -0.91865195]])"
      ]
     },
     "execution_count": 76,
     "metadata": {},
     "output_type": "execute_result"
    }
   ],
   "source": [
    "X[:2]"
   ]
  },
  {
   "cell_type": "code",
   "execution_count": 77,
   "metadata": {},
   "outputs": [],
   "source": [
    "class CustomLinearReg:\n",
    "    \n",
    "    def __init__(self, max_iters=100, lr=.1):\n",
    "        self.max_iters = max_iters\n",
    "        self.lr = lr\n",
    "\n",
    "        \n",
    "    def fit(self, X, y):\n",
    "        self.__X = X\n",
    "        self.__ya = y.reshape(-1, 1)\n",
    "        \n",
    "        self.coef_ = np.random.randn(self.__X.shape[1], 1)\n",
    "        self.intercept_ = 0\n",
    "        \n",
    "        errors = []\n",
    "        \n",
    "        for step in range(self.max_iters):\n",
    "            \n",
    "            yp = np.dot(self.__X, self.coef_) + self.intercept_\n",
    "            del_m = (2 * (yp - self.__ya) * self.__X).mean(axis=0, keepdims=True).T * self.lr\n",
    "            del_c = (2 * (yp - self.__ya)).mean() * self.lr\n",
    "            self.coef_-= del_m\n",
    "            self.intercept_ -= del_c\n",
    "            errors.append(self.calculate_error())\n",
    "        \n",
    "        return errors\n",
    "    \n",
    "    def calculate_error(self):\n",
    "        yp = np.dot(self.__X, self.coef_) + self.intercept_\n",
    "        return ((yp - self.__ya) ** 2).mean()\n",
    "    \n",
    "    def predict(self, X):\n",
    "        yp = np.dot(X, self.coef_) + self.intercept_\n",
    "        return yp.flatten()"
   ]
  },
  {
   "cell_type": "code",
   "execution_count": 78,
   "metadata": {},
   "outputs": [],
   "source": [
    "model = CustomLinearReg()"
   ]
  },
  {
   "cell_type": "code",
   "execution_count": 79,
   "metadata": {},
   "outputs": [],
   "source": [
    "X_train, X_test, y_train, y_test = train_test_split(\n",
    "...     X, y, test_size=0.33, random_state=42)"
   ]
  },
  {
   "cell_type": "code",
   "execution_count": 80,
   "metadata": {},
   "outputs": [],
   "source": [
    "errors = model.fit(X_train, y_train)"
   ]
  },
  {
   "cell_type": "code",
   "execution_count": 81,
   "metadata": {},
   "outputs": [
    {
     "data": {
      "text/plain": [
       "[<matplotlib.lines.Line2D at 0x7f9aeae61fd0>]"
      ]
     },
     "execution_count": 81,
     "metadata": {},
     "output_type": "execute_result"
    },
    {
     "data": {
      "image/png": "[encoded data removed]",
      "text/plain": [
       "<Figure size 432x288 with 1 Axes>"
      ]
     },
     "metadata": {
      "needs_background": "light"
     },
     "output_type": "display_data"
    }
   ],
   "source": [
    "plt.plot(np.arange(len(errors)), errors)"
   ]
  },
  {
   "cell_type": "code",
   "execution_count": 82,
   "metadata": {},
   "outputs": [
    {
     "data": {
      "text/plain": [
       "array([[ 0.05963037,  0.92463368,  1.39935544, -0.64693678],\n",
       "       [ 0.91831661,  1.39200229,  0.17989415, -1.5705006 ],\n",
       "       [-1.02418682,  0.63081168,  1.51344974,  1.85409257],\n",
       "       [-0.53025762,  0.50404652, -0.98572605, -0.79287283],\n",
       "       [ 0.44381943, -0.70766947,  1.26691115,  0.77463405],\n",
       "       [ 0.02079371,  2.05749547,  0.61915426, -0.72800294],\n",
       "       [ 1.58601682,  0.66213067,  0.11351735, -1.2378155 ],\n",
       "       [ 0.79426468, -0.52905268, -1.56254586, -1.25428942],\n",
       "       [-0.24896415,  1.75534084,  2.06074792,  0.97157095],\n",
       "       [ 1.42050425,  1.18901653, -0.63738713, -0.57074629]])"
      ]
     },
     "execution_count": 82,
     "metadata": {},
     "output_type": "execute_result"
    }
   ],
   "source": [
    "X_test[:10]"
   ]
  },
  {
   "cell_type": "code",
   "execution_count": 83,
   "metadata": {},
   "outputs": [
    {
     "data": {
      "text/plain": [
       "array([158.36878008, 131.46462583, 151.17584572,  36.39367962,\n",
       "       170.756903  , 132.19942604, 150.51933522,  46.52311444,\n",
       "       198.25701613, 125.26271318])"
      ]
     },
     "execution_count": 83,
     "metadata": {},
     "output_type": "execute_result"
    }
   ],
   "source": [
    "model.predict(X_test[:10])"
   ]
  },
  {
   "cell_type": "code",
   "execution_count": 84,
   "metadata": {},
   "outputs": [
    {
     "data": {
      "text/plain": [
       "array([154.21413459, 126.60346289, 150.48587768,  32.91739582,\n",
       "       175.253328  , 130.61733492, 148.72312993,  43.91310513,\n",
       "       199.39079722, 124.91676786])"
      ]
     },
     "execution_count": 84,
     "metadata": {},
     "output_type": "execute_result"
    }
   ],
   "source": [
    "y_test[:10]"
   ]
  },
  {
   "cell_type": "code",
   "execution_count": null,
   "metadata": {},
   "outputs": [],
   "source": []
  },
  {
   "cell_type": "code",
   "execution_count": null,
   "metadata": {},
   "outputs": [],
   "source": []
  },
  {
   "cell_type": "code",
   "execution_count": null,
   "metadata": {},
   "outputs": [],
   "source": []
  }
 ],
 "metadata": {
  "kernelspec": {
   "display_name": "Python 3",
   "language": "python",
   "name": "python3"
  },
  "language_info": {
   "codemirror_mode": {
    "name": "ipython",
    "version": 3
   },
   "file_extension": ".py",
   "mimetype": "text/x-python",
   "name": "python",
   "nbconvert_exporter": "python",
   "pygments_lexer": "ipython3",
   "version": "3.8.5"
  }
 },
 "nbformat": 4,
 "nbformat_minor": 4
}

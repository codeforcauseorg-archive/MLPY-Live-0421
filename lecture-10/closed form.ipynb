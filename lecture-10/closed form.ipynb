{
 "cells": [
  {
   "cell_type": "code",
   "execution_count": 1,
   "metadata": {},
   "outputs": [],
   "source": [
    "from sklearn.datasets import make_regression\n",
    "import numpy as np\n",
    "import matplotlib.pyplot as plt\n",
    "from sklearn.model_selection import train_test_split\n",
    "\n",
    "bias = 100\n",
    "X, y, coef = make_regression(n_samples=500,  n_features=4, bias=bias, coef=True, noise=3, random_state=42)"
   ]
  },
  {
   "cell_type": "code",
   "execution_count": 3,
   "metadata": {},
   "outputs": [
    {
     "data": {
      "text/plain": [
       "array([[ 1.        , -0.92323325, -1.4066611 , -0.6115178 , -1.35168461],\n",
       "       [ 1.        , -1.34445051, -0.28178461, -0.42018682, -0.91865195],\n",
       "       [ 1.        , -2.0674421 , -0.03269475,  0.38406545, -0.08912004],\n",
       "       ...,\n",
       "       [ 1.        , -0.74247059,  0.19460746, -0.62264936, -1.32002251],\n",
       "       [ 1.        ,  0.39445214, -0.43255819, -0.48760622, -0.42098448],\n",
       "       [ 1.        ,  0.38019785, -1.33534436,  0.177701  ,  0.61058575]])"
      ]
     },
     "execution_count": 3,
     "metadata": {},
     "output_type": "execute_result"
    }
   ],
   "source": [
    "np.hstack([np.ones([X.shape[0], 1]),  X])"
   ]
  },
  {
   "cell_type": "code",
   "execution_count": 15,
   "metadata": {},
   "outputs": [],
   "source": [
    "class CustomLinearReg:\n",
    "        \n",
    "    def fit(self, X, y):\n",
    "        self.__X = np.hstack([np.ones([X.shape[0], 1]),  X])\n",
    "        self.__ya = y.reshape(-1, 1)\n",
    "        \n",
    "        first = np.linalg.inv(np.dot(self.__X.T, self.__X))\n",
    "        second = np.dot(self.__X.T, self.__ya)\n",
    "        \n",
    "        self.theta_ = np.dot(first, second)\n",
    "        \n",
    "    \n",
    "    def predict(self, X):\n",
    "        X = np.hstack([np.ones([X.shape[0], 1]),  X])\n",
    "        yp = np.dot(X, self.theta_)\n",
    "        return yp.flatten()"
   ]
  },
  {
   "cell_type": "code",
   "execution_count": 16,
   "metadata": {},
   "outputs": [],
   "source": [
    "model = CustomLinearReg()"
   ]
  },
  {
   "cell_type": "code",
   "execution_count": 17,
   "metadata": {},
   "outputs": [],
   "source": [
    "X_train, X_test, y_train, y_test = train_test_split(\n",
    "...     X, y, test_size=0.33, random_state=42)"
   ]
  },
  {
   "cell_type": "code",
   "execution_count": 18,
   "metadata": {},
   "outputs": [],
   "source": [
    "model.fit(X_train, y_train)"
   ]
  },
  {
   "cell_type": "code",
   "execution_count": null,
   "metadata": {},
   "outputs": [],
   "source": []
  },
  {
   "cell_type": "code",
   "execution_count": 19,
   "metadata": {},
   "outputs": [
    {
     "data": {
      "text/plain": [
       "array([[ 0.05963037,  0.92463368,  1.39935544, -0.64693678],\n",
       "       [ 0.91831661,  1.39200229,  0.17989415, -1.5705006 ],\n",
       "       [-1.02418682,  0.63081168,  1.51344974,  1.85409257],\n",
       "       [-0.53025762,  0.50404652, -0.98572605, -0.79287283],\n",
       "       [ 0.44381943, -0.70766947,  1.26691115,  0.77463405],\n",
       "       [ 0.02079371,  2.05749547,  0.61915426, -0.72800294],\n",
       "       [ 1.58601682,  0.66213067,  0.11351735, -1.2378155 ],\n",
       "       [ 0.79426468, -0.52905268, -1.56254586, -1.25428942],\n",
       "       [-0.24896415,  1.75534084,  2.06074792,  0.97157095],\n",
       "       [ 1.42050425,  1.18901653, -0.63738713, -0.57074629]])"
      ]
     },
     "execution_count": 19,
     "metadata": {},
     "output_type": "execute_result"
    }
   ],
   "source": [
    "X_test[:10]"
   ]
  },
  {
   "cell_type": "code",
   "execution_count": 20,
   "metadata": {},
   "outputs": [
    {
     "data": {
      "text/plain": [
       "array([158.36878191, 131.4646273 , 151.17584654,  36.39367868,\n",
       "       170.75690415, 132.1994275 , 150.51933671,  46.52311344,\n",
       "       198.25701846, 125.26271395])"
      ]
     },
     "execution_count": 20,
     "metadata": {},
     "output_type": "execute_result"
    }
   ],
   "source": [
    "model.predict(X_test[:10])"
   ]
  },
  {
   "cell_type": "code",
   "execution_count": 21,
   "metadata": {},
   "outputs": [
    {
     "data": {
      "text/plain": [
       "array([154.21413459, 126.60346289, 150.48587768,  32.91739582,\n",
       "       175.253328  , 130.61733492, 148.72312993,  43.91310513,\n",
       "       199.39079722, 124.91676786])"
      ]
     },
     "execution_count": 21,
     "metadata": {},
     "output_type": "execute_result"
    }
   ],
   "source": [
    "y_test[:10]"
   ]
  },
  {
   "cell_type": "code",
   "execution_count": null,
   "metadata": {},
   "outputs": [],
   "source": []
  },
  {
   "cell_type": "code",
   "execution_count": null,
   "metadata": {},
   "outputs": [],
   "source": []
  },
  {
   "cell_type": "code",
   "execution_count": null,
   "metadata": {},
   "outputs": [],
   "source": []
  }
 ],
 "metadata": {
  "kernelspec": {
   "display_name": "Python 3",
   "language": "python",
   "name": "python3"
  },
  "language_info": {
   "codemirror_mode": {
    "name": "ipython",
    "version": 3
   },
   "file_extension": ".py",
   "mimetype": "text/x-python",
   "name": "python",
   "nbconvert_exporter": "python",
   "pygments_lexer": "ipython3",
   "version": "3.8.5"
  }
 },
 "nbformat": 4,
 "nbformat_minor": 4
}

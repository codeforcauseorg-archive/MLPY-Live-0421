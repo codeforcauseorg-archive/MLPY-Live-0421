{
 "cells": [
  {
   "cell_type": "code",
   "execution_count": 43,
   "metadata": {},
   "outputs": [],
   "source": [
    "import numpy as np\n",
    "import random"
   ]
  },
  {
   "cell_type": "code",
   "execution_count": 1,
   "metadata": {},
   "outputs": [],
   "source": [
    "f = open(\"../datasets/speech.txt\")\n",
    "\n",
    "text = f.read()\n",
    "\n",
    "subtext = text[:]"
   ]
  },
  {
   "cell_type": "code",
   "execution_count": 13,
   "metadata": {},
   "outputs": [],
   "source": [
    "# subtext"
   ]
  },
  {
   "cell_type": "code",
   "execution_count": 100,
   "metadata": {},
   "outputs": [],
   "source": [
    "k = 2\n",
    "freq = {}"
   ]
  },
  {
   "cell_type": "code",
   "execution_count": 101,
   "metadata": {},
   "outputs": [],
   "source": [
    "for index in range(len(subtext)-k-1):\n",
    "    chop = subtext[index: index+k]\n",
    "    nextCh = subtext[index+k]\n",
    "    \n",
    "    if chop not in freq:\n",
    "        freq[chop] = {}\n",
    "    \n",
    "    if nextCh not in freq[chop]:\n",
    "        freq[chop][nextCh] = 0\n",
    "    \n",
    "    freq[chop][nextCh] += 1\n",
    "    "
   ]
  },
  {
   "cell_type": "code",
   "execution_count": 102,
   "metadata": {},
   "outputs": [],
   "source": [
    "# freq"
   ]
  },
  {
   "cell_type": "code",
   "execution_count": 103,
   "metadata": {},
   "outputs": [],
   "source": [
    "sample = text[1500:1530]"
   ]
  },
  {
   "cell_type": "code",
   "execution_count": 104,
   "metadata": {},
   "outputs": [
    {
     "data": {
      "text/plain": [
       "' in isolation. Every country h'"
      ]
     },
     "execution_count": 104,
     "metadata": {},
     "output_type": "execute_result"
    }
   ],
   "source": [
    "sample"
   ]
  },
  {
   "cell_type": "code",
   "execution_count": 105,
   "metadata": {},
   "outputs": [],
   "source": [
    "for letters in range(500):\n",
    "    chop = sample[-k:]\n",
    "    posiblities = freq[chop]\n",
    "    posiblitiesList = list(posiblities.items())\n",
    "    sortedPos = sorted(posiblitiesList, key=lambda combo: combo[1], reverse=True)\n",
    "    chosen = random.choice(sortedPos[:3])\n",
    "    sample += chosen[0]"
   ]
  },
  {
   "cell_type": "code",
   "execution_count": 106,
   "metadata": {},
   "outputs": [
    {
     "name": "stdout",
     "output_type": "stream",
     "text": [
      " in isolation. Every country having. Thing to builty is, to true. I had to be an end thal, incretion. To stood finance ther it wisdom, drash.\n",
      "Infrastraights. They we alread of oppreced truly doing than, team the powerfully, I am how is nothin on offin, a numbent ask our socio-medium. To start also, wisdom, will notion.\n",
      "Whenever,\n",
      "My drinkindset.\n",
      "These, wisers. The chosis. We wasters.\n",
      "Where anythin tech offins, an iman rive talk above all and\n",
      "that it.\n",
      "My comest tilestory, too. \n",
      "My dren we has becament.\n",
      "Terrors anothen well-wis\n"
     ]
    }
   ],
   "source": [
    "print(sample)"
   ]
  },
  {
   "cell_type": "code",
   "execution_count": null,
   "metadata": {},
   "outputs": [],
   "source": []
  },
  {
   "cell_type": "code",
   "execution_count": null,
   "metadata": {},
   "outputs": [],
   "source": []
  }
 ],
 "metadata": {
  "kernelspec": {
   "display_name": "Python 3",
   "language": "python",
   "name": "python3"
  },
  "language_info": {
   "codemirror_mode": {
    "name": "ipython",
    "version": 3
   },
   "file_extension": ".py",
   "mimetype": "text/x-python",
   "name": "python",
   "nbconvert_exporter": "python",
   "pygments_lexer": "ipython3",
   "version": "3.8.5"
  }
 },
 "nbformat": 4,
 "nbformat_minor": 4
}

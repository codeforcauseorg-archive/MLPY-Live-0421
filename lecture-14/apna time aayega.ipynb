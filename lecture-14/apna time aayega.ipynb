{
 "cells": [
  {
   "cell_type": "code",
   "execution_count": 10,
   "metadata": {},
   "outputs": [],
   "source": [
    "import numpy as np\n",
    "import random"
   ]
  },
  {
   "cell_type": "code",
   "execution_count": 1,
   "metadata": {},
   "outputs": [],
   "source": [
    "text = \"\"\"Kaun bola mujhe na ho payega?\n",
    "Kaun bola, Kaun bola?\n",
    "\n",
    "Apna Time Aayega!\n",
    "\n",
    "Uth ja apni raakh se\n",
    "Tu uth ja ab talaash mein\n",
    "Parwaaz dekh parwaane ki\n",
    "Aasmaan bhi sar uthayega\n",
    "Aayega, apna time aayega\n",
    "\n",
    "Mere jaisa shaana lala\n",
    "Tujhe na mil paayega\n",
    "Ye shabdo ka jwaala\n",
    "Meri bediyan pighlaayega\n",
    "Jitna tune boya hai\n",
    "Tu utna hi toh khaayega\n",
    "Aisa mera khwaab hai\n",
    "Jo dar ko bhi sataayega\n",
    "Zinda mera khwab\n",
    "Ab kaise tu dafnayega\n",
    "\n",
    "Ab hausle se jeene de\n",
    "Ab khauf nahi hai seene mein\n",
    "Har raaste ko cheerenge\n",
    "Hum kaamyabi cheenenge\n",
    "Sab kuch mila paseene se\n",
    "Matlab bana ab jeene mein\n",
    "Kyun?\n",
    "\n",
    "Kyunki apna time aayega\n",
    "Tu nanga hi toh aaya hai\n",
    "Kya ghanta lekar jaayega\n",
    "\n",
    "Apna time aayega\n",
    "Apna time aayega\n",
    "Apna time aayega\n",
    "Tu nanga hi toh aaya hai\n",
    "Kya ghanta lekar jaayega\n",
    "Apna time aayega\n",
    "Apna time aayega\n",
    "Apna time aayega\n",
    "Tu nanga hi toh aaya hai\n",
    "Kya ghanta lekar…\n",
    "\n",
    "Kisi ka haath nahi tha sar par\n",
    "Yahan par aaya khudki mehnat se main\n",
    "Jitni taakat kismat mein nahi\n",
    "Utni rehmat mein hai\n",
    "Phir bhi ladka sehmat nahi hai\n",
    "Kyunki hairat nahi hai\n",
    "Zaroorat yahan marzi ki aur jurrat ki hai\n",
    "Taakat ki hai, aafat ki, himaakat ki, Ibadat ki\n",
    "Adaalat yeh hai chaahat ki\n",
    "Mohabbat ki, amaanat ki\n",
    "Jeetne ki ab aadat ki\n",
    "Yeh shohrat ki, ab laalach nahi hai\n",
    "Tere bhai jaisa koi hard’ich nahi hai\n",
    "Hard, hard, hard, hard…\n",
    "\n",
    "Iss harkat ne hi barkat di hai\n",
    "Kyun?\n",
    "\n",
    "Kyunki apna time aayega\n",
    "Tu nanga hi toh aaya hai\n",
    "Kya ghanta lekar jaayega\n",
    "Apna time aayega\n",
    "Apna time aayega\n",
    "Apna time aayega\n",
    "Tu nanga hi toh aaya hai\n",
    "Kya ghanta lekar jaayega\n",
    "Apna time aayega!\n",
    "Apna time aayega!\n",
    "Apna time aayega!\n",
    "Tu nanga hi toh aaya hai\n",
    "Kya ghanta lekar jaayega\n",
    "\n",
    "Kal nanga hi toh aaya tha\n",
    "Kya tu ghanta lekar jaayega\n",
    "Apna time aayega!\n",
    "Apna time aayega!\n",
    "\n",
    "Apna time aayega na\n",
    "Tu nanga hi toh jayega na\"\"\""
   ]
  },
  {
   "cell_type": "code",
   "execution_count": 2,
   "metadata": {},
   "outputs": [],
   "source": [
    "subtext = text[:]"
   ]
  },
  {
   "cell_type": "code",
   "execution_count": 3,
   "metadata": {},
   "outputs": [],
   "source": [
    "# subtext"
   ]
  },
  {
   "cell_type": "code",
   "execution_count": 13,
   "metadata": {},
   "outputs": [],
   "source": [
    "k = 5\n",
    "freq = {}"
   ]
  },
  {
   "cell_type": "code",
   "execution_count": 14,
   "metadata": {},
   "outputs": [],
   "source": [
    "for index in range(len(subtext)-k-1):\n",
    "    chop = subtext[index: index+k]\n",
    "    nextCh = subtext[index+k]\n",
    "    \n",
    "    if chop not in freq:\n",
    "        freq[chop] = {}\n",
    "    \n",
    "    if nextCh not in freq[chop]:\n",
    "        freq[chop][nextCh] = 0\n",
    "    \n",
    "    freq[chop][nextCh] += 1\n",
    "    "
   ]
  },
  {
   "cell_type": "code",
   "execution_count": 15,
   "metadata": {},
   "outputs": [],
   "source": [
    "# freq"
   ]
  },
  {
   "cell_type": "code",
   "execution_count": 16,
   "metadata": {},
   "outputs": [],
   "source": [
    "sample = text[:30]"
   ]
  },
  {
   "cell_type": "code",
   "execution_count": 17,
   "metadata": {},
   "outputs": [
    {
     "data": {
      "text/plain": [
       "'Kaun bola mujhe na ho payega?\\n'"
      ]
     },
     "execution_count": 17,
     "metadata": {},
     "output_type": "execute_result"
    }
   ],
   "source": [
    "sample"
   ]
  },
  {
   "cell_type": "code",
   "execution_count": 18,
   "metadata": {},
   "outputs": [],
   "source": [
    "for letters in range(500):\n",
    "    chop = sample[-k:]\n",
    "    posiblities = freq[chop]\n",
    "    posiblitiesList = list(posiblities.items())\n",
    "    sortedPos = sorted(posiblitiesList, key=lambda combo: combo[1], reverse=True)\n",
    "    chosen = random.choice(sortedPos[:3])\n",
    "    sample += chosen[0]"
   ]
  },
  {
   "cell_type": "code",
   "execution_count": 19,
   "metadata": {},
   "outputs": [
    {
     "name": "stdout",
     "output_type": "stream",
     "text": [
      "Kaun bola mujhe na ho payega?\n",
      "Kaun bola mujhe na mil paayega\n",
      "Aayega na\n",
      "Tu nanga hi toh khaayega\n",
      "\n",
      "Ab hausle se jeene de\n",
      "Ab kaise tu dafnayega\n",
      "\n",
      "Mere jaisa shaana lala\n",
      "Tujhe na mil paayega!\n",
      "Tu nanga hi toh jayega!\n",
      "Tu nanga hi toh khaayega!\n",
      "Apna Time Aayega\n",
      "Aisa mera khwab\n",
      "Ab khauf nahi\n",
      "Utni rehmat nahi tha sar uthayega na\n",
      "Tu nanga hi toh khaayega!\n",
      "Apna time aayega na\n",
      "Tu nanga hi toh jayega\n",
      "Tu nanga hi toh jayega\n",
      "\n",
      "Mere jaisa koi hard’ich nahi tha sar uthayega na\n",
      "Tu nanga hi toh jayega!\n",
      "Tu nanga hi toh jayega\n",
      "Tu nanga hi toh khaa\n"
     ]
    }
   ],
   "source": [
    "print(sample)"
   ]
  },
  {
   "cell_type": "code",
   "execution_count": null,
   "metadata": {},
   "outputs": [],
   "source": []
  },
  {
   "cell_type": "code",
   "execution_count": null,
   "metadata": {},
   "outputs": [],
   "source": []
  }
 ],
 "metadata": {
  "kernelspec": {
   "display_name": "Python 3",
   "language": "python",
   "name": "python3"
  },
  "language_info": {
   "codemirror_mode": {
    "name": "ipython",
    "version": 3
   },
   "file_extension": ".py",
   "mimetype": "text/x-python",
   "name": "python",
   "nbconvert_exporter": "python",
   "pygments_lexer": "ipython3",
   "version": "3.8.5"
  }
 },
 "nbformat": 4,
 "nbformat_minor": 4
}

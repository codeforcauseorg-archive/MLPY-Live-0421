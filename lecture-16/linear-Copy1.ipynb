{
 "cells": [
  {
   "cell_type": "code",
   "execution_count": 1,
   "metadata": {},
   "outputs": [],
   "source": [
    "import tensorflow as tf\n",
    "\n",
    "from sklearn.datasets import make_regression\n",
    "import numpy as np\n",
    "import matplotlib.pyplot as plt\n",
    "\n",
    "# Hide warnings\n",
    "import warnings\n",
    "warnings.filterwarnings('ignore')"
   ]
  },
  {
   "cell_type": "code",
   "execution_count": 9,
   "metadata": {},
   "outputs": [],
   "source": [
    "X_np = np.linspace(-2, 2, 100)\n",
    "y_np = 10 + X_np * X_np + 50 + np.random.uniform(-.3, .3, (100,))"
   ]
  },
  {
   "cell_type": "code",
   "execution_count": 10,
   "metadata": {},
   "outputs": [],
   "source": [
    "X = tf.constant(X_np)\n",
    "y = tf.constant(y_np)"
   ]
  },
  {
   "cell_type": "code",
   "execution_count": null,
   "metadata": {},
   "outputs": [],
   "source": []
  },
  {
   "cell_type": "code",
   "execution_count": 12,
   "metadata": {},
   "outputs": [
    {
     "data": {
      "text/plain": [
       "<matplotlib.collections.PathCollection at 0x7f3d2d91ef10>"
      ]
     },
     "execution_count": 12,
     "metadata": {},
     "output_type": "execute_result"
    },
    {
     "data": {
      "image/png": "[encoded data removed]",
      "text/plain": [
       "<Figure size 432x288 with 1 Axes>"
      ]
     },
     "metadata": {
      "needs_background": "light"
     },
     "output_type": "display_data"
    }
   ],
   "source": [
    "# #100 data points \n",
    "# NUM_EXAMPLES = 100\n",
    "\n",
    "# #define inputs and outputs with some noise \n",
    "# X = tf.random.normal([NUM_EXAMPLES])  #inputs \n",
    "# noise = tf.random.normal([NUM_EXAMPLES]) #noise \n",
    "# y = X * 3 + 2 + noise  #true output\n",
    "\n",
    "plt.scatter(X, y)"
   ]
  },
  {
   "cell_type": "code",
   "execution_count": null,
   "metadata": {},
   "outputs": [],
   "source": []
  },
  {
   "cell_type": "markdown",
   "metadata": {},
   "source": [
    "# Contruction Phase"
   ]
  },
  {
   "cell_type": "code",
   "execution_count": 13,
   "metadata": {},
   "outputs": [],
   "source": [
    "#create model paramters with initial values \n",
    "W = tf.Variable(0., dtype=np.float64)\n",
    "b = tf.Variable(0., dtype=np.float64)"
   ]
  },
  {
   "cell_type": "code",
   "execution_count": 14,
   "metadata": {},
   "outputs": [],
   "source": [
    "#training info\n",
    "train_steps = 300\n",
    "learning_rate = 0.01"
   ]
  },
  {
   "cell_type": "code",
   "execution_count": 15,
   "metadata": {},
   "outputs": [],
   "source": [
    "\n",
    "#watch the gradient flow\n",
    "@tf.function  # Make it fast.\n",
    "def train_on_batch(X, y):\n",
    "    with tf.GradientTape() as tape:\n",
    "        #forward pass \n",
    "        yhat = X * X * W + b\n",
    "\n",
    "        #calcuate the loss (difference squared error)\n",
    "        error = yhat - y\n",
    "        loss = tf.reduce_mean(error**2)\n",
    "\n",
    "    #evalute the gradient with the respect to the paramters\n",
    "    dW, db = tape.gradient(loss, [W, b])\n",
    "\n",
    "    #update the paramters using Gradient Descent  \n",
    "    W.assign_sub(dW * learning_rate)\n",
    "    b.assign_sub(db * learning_rate)\n",
    "\n",
    "    return(loss)"
   ]
  },
  {
   "cell_type": "code",
   "execution_count": 20,
   "metadata": {},
   "outputs": [
    {
     "name": "stdout",
     "output_type": "stream",
     "text": [
      "Loss at step 000: 11.927\n",
      "Loss at step 020: 8.840\n",
      "Loss at step 040: 6.553\n",
      "Loss at step 060: 4.860\n",
      "Loss at step 080: 3.606\n",
      "Loss at step 100: 2.678\n",
      "Loss at step 120: 1.990\n",
      "Loss at step 140: 1.481\n",
      "Loss at step 160: 1.104\n",
      "Loss at step 180: 0.824\n",
      "Loss at step 200: 0.618\n",
      "Loss at step 220: 0.464\n",
      "Loss at step 240: 0.351\n",
      "Loss at step 260: 0.267\n",
      "Loss at step 280: 0.205\n",
      "W : 1.264775220745778 , b  = 59.44735377622264 \n"
     ]
    }
   ],
   "source": [
    "#print the loss every 20 iterations\n",
    "for i in range(train_steps):\n",
    "    loss = train_on_batch(X,y)\n",
    "    \n",
    "    if i % 20 == 0:\n",
    "        print(\"Loss at step {:03d}: {:.3f}\".format(i, loss))\n",
    "        \n",
    "        \n",
    "print(f'W : {W.numpy()} , b  = {b.numpy()} ')"
   ]
  },
  {
   "cell_type": "code",
   "execution_count": 21,
   "metadata": {},
   "outputs": [],
   "source": [
    "loss = train_on_batch(X,y)"
   ]
  },
  {
   "cell_type": "code",
   "execution_count": null,
   "metadata": {},
   "outputs": [],
   "source": []
  },
  {
   "cell_type": "code",
   "execution_count": 22,
   "metadata": {},
   "outputs": [
    {
     "data": {
      "text/plain": [
       "[<matplotlib.lines.Line2D at 0x7f3d2e07b280>]"
      ]
     },
     "execution_count": 22,
     "metadata": {},
     "output_type": "execute_result"
    },
    {
     "data": {
      "image/png": "[encoded data removed]",
      "text/plain": [
       "<Figure size 432x288 with 1 Axes>"
      ]
     },
     "metadata": {
      "needs_background": "light"
     },
     "output_type": "display_data"
    }
   ],
   "source": [
    "plt.scatter(X, y)\n",
    "plt.plot(X, b + W*X*X, color='red')"
   ]
  },
  {
   "cell_type": "code",
   "execution_count": null,
   "metadata": {},
   "outputs": [],
   "source": []
  }
 ],
 "metadata": {
  "kernelspec": {
   "display_name": "Python 3",
   "language": "python",
   "name": "python3"
  },
  "language_info": {
   "codemirror_mode": {
    "name": "ipython",
    "version": 3
   },
   "file_extension": ".py",
   "mimetype": "text/x-python",
   "name": "python",
   "nbconvert_exporter": "python",
   "pygments_lexer": "ipython3",
   "version": "3.8.5"
  }
 },
 "nbformat": 4,
 "nbformat_minor": 4
}
